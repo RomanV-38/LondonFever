{
 "cells": [
  {
   "cell_type": "code",
   "execution_count": 1,
   "metadata": {},
   "outputs": [
    {
     "data": {
      "text/html": [
       "<style>.container { width:100% !important; }</style>"
      ],
      "text/plain": [
       "<IPython.core.display.HTML object>"
      ]
     },
     "metadata": {},
     "output_type": "display_data"
    }
   ],
   "source": [
    "# Je ne sais pas vous, mais personnellement j'ai un écran large et ça m'agace\n",
    "# d'avoir le notebook juste au milieu\n",
    "from IPython.core.display import display, HTML\n",
    "display(HTML(\"<style>.container { width:100% !important; }</style>\"))"
   ]
  },
  {
   "cell_type": "markdown",
   "metadata": {},
   "source": [
    "### Chargement des librairies et définition fonction coordonnées->UTM"
   ]
  },
  {
   "cell_type": "code",
   "execution_count": 2,
   "metadata": {},
   "outputs": [],
   "source": [
    "# librairies mathématiques et de gestion\n",
    "import pandas as pd\n",
    "import numpy as np\n",
    "\n",
    "# librairie de conversion de coordonnées géo\n",
    "from convertbng.util import convert_bng, convert_lonlat\n",
    "\n",
    "def wgs84_to_web_mercator(df, lon=\"LON\", lat=\"LAT\"):\n",
    "    '''\n",
    "    Cette fonction calcule les coordonnées\n",
    "    UTM (mercator) à partir de la longitude et de la latitude\n",
    "    df : le dataframe où se trouvent les données à convertir\n",
    "    lon : nom de la colonne pour les longitudes\n",
    "    lat : nom de la colonne pour les latitudes\n",
    "    return : retourne le dataframe en y ajoutant les colonnes \n",
    "    pour les coordonnées x_utm et y_utm\n",
    "    '''\n",
    "    k = 6378137\n",
    "    df.loc[:, \"x_utm\"] = df.loc[:, lon] * (k * np.pi/180.0)\n",
    "    df.loc[:, \"y_utm\"] = np.log(np.tan((90 + df.loc[:, lat]) * np.pi/360.0)) * k\n",
    "    return df"
   ]
  },
  {
   "cell_type": "markdown",
   "metadata": {},
   "source": [
    "### Chargement datasets"
   ]
  },
  {
   "cell_type": "code",
   "execution_count": 3,
   "metadata": {},
   "outputs": [
    {
     "name": "stderr",
     "output_type": "stream",
     "text": [
      "C:\\Users\\Roman\\anaconda3\\envs\\ptorch\\lib\\site-packages\\IPython\\core\\interactiveshell.py:3146: DtypeWarning: Columns (0,5) have mixed types.Specify dtype option on import or set low_memory=False.\n",
      "  interactivity=interactivity, compiler=compiler, result=result)\n"
     ]
    }
   ],
   "source": [
    "# j'ai passé les data en csv, avec un nom un peu moins pénible\n",
    "# la lecture doit se faire avec latin-1 pour certain caractère spéciaux\n",
    "df = pd.read_csv('data/Full_dataset.csv',sep=',', encoding='latin-1')\n",
    "\n",
    "# On charge également les coordonnées des stations\n",
    "station_coord = pd.read_csv('data/Station_coord.csv')"
   ]
  },
  {
   "cell_type": "code",
   "execution_count": 4,
   "metadata": {},
   "outputs": [
    {
     "name": "stdout",
     "output_type": "stream",
     "text": [
      "<class 'pandas.core.frame.DataFrame'>\n",
      "RangeIndex: 1258146 entries, 0 to 1258145\n",
      "Data columns (total 15 columns):\n",
      " #   Column                    Non-Null Count    Dtype \n",
      "---  ------                    --------------    ----- \n",
      " 0   IncidentNumber            1258146 non-null  object\n",
      " 1   TimeMobilised             1258146 non-null  object\n",
      " 2   TimeMobile                1258146 non-null  object\n",
      " 3   TimeArrived               1258146 non-null  object\n",
      " 4   TimeLeft                  1212722 non-null  object\n",
      " 5   TimeReturned              1041477 non-null  object\n",
      " 6   DeployedFromStation_Name  1258146 non-null  object\n",
      " 7   DateOfCall                1258146 non-null  object\n",
      " 8   CalYear                   1258146 non-null  int64 \n",
      " 9   TimeOfCall                1258146 non-null  object\n",
      " 10  HourOfCall                1258146 non-null  int64 \n",
      " 11  IncidentGroup             1258146 non-null  object\n",
      " 12  SpecialServiceType        291762 non-null   object\n",
      " 13  Easting_rounded           1258146 non-null  int64 \n",
      " 14  Northing_rounded          1258146 non-null  int64 \n",
      "dtypes: int64(4), object(11)\n",
      "memory usage: 144.0+ MB\n",
      "<class 'pandas.core.frame.DataFrame'>\n",
      "RangeIndex: 103 entries, 0 to 102\n",
      "Data columns (total 4 columns):\n",
      " #   Column   Non-Null Count  Dtype  \n",
      "---  ------   --------------  -----  \n",
      " 0   Station  103 non-null    object \n",
      " 1   Adresse  103 non-null    object \n",
      " 2   lat      103 non-null    float64\n",
      " 3   long     103 non-null    float64\n",
      "dtypes: float64(2), object(2)\n",
      "memory usage: 3.3+ KB\n"
     ]
    }
   ],
   "source": [
    "df.info()\n",
    "station_coord.info()"
   ]
  },
  {
   "cell_type": "markdown",
   "metadata": {},
   "source": [
    "On retire les noms de stations qui ne sont plus présents sur \n",
    "https://www.london-fire.gov.uk/community/your-borough/, <br/>\n",
    "Car ça devient compliqué d'en extraire les coordonnées avec des services gratuits\n",
    "(avec des services payants, c'est une autre histoire). <br/><br/>\n",
    "Avec le print(station absente, station, data1, date2), on peut voir les dates où ces stations ont envoyé des effectifs sur les incidents, et donc suggérer que ces stations ont effectivement fermée et ne sont plus pertinentes pour l'analyse."
   ]
  },
  {
   "cell_type": "code",
   "execution_count": 5,
   "metadata": {},
   "outputs": [
    {
     "name": "stdout",
     "output_type": "stream",
     "text": [
      "station absente de station_coord : Clerkenwell 2009 2014\n",
      "station absente de station_coord : Southwark 2009 2014\n",
      "station absente de station_coord : Belsize 2009 2014\n",
      "station absente de station_coord : Woolwich 2009 2014\n",
      "station absente de station_coord : Silvertown 2009 2014\n",
      "station absente de station_coord : Bow 2009 2014\n",
      "station absente de station_coord : Westminster 2009 2014\n",
      "station absente de station_coord : Kingsland 2009 2014\n",
      "station absente de station_coord : Knightsbridge 2009 2014\n",
      "station absente de station_coord : Downham 2009 2014\n",
      "station absente de station_coord : Langley 2009 2016\n",
      "station absente de station_coord : Loughton 2009 2016\n",
      "station absente de station_coord : Rickmansworth 2009 2016\n",
      "station absente de station_coord : Epsom 2009 2016\n",
      "station absente de station_coord : Reigate 2009 2016\n",
      "station absente de station_coord : Walton 2009 2015\n",
      "station absente de station_coord : Cheshunt 2009 2016\n",
      "station absente de station_coord : Orsett 2009 2014\n",
      "station absente de station_coord : Staines 2009 2016\n",
      "station absente de station_coord : Potters Bar 2009 2016\n",
      "station absente de station_coord : Borehamwood 2009 2016\n",
      "station absente de station_coord : Grays 2009 2016\n",
      "station absente de station_coord : St Albans 2009 2016\n",
      "station absente de station_coord : Other Kent 2009 2014\n",
      "station absente de station_coord : Godstone 2009 2016\n",
      "station absente de station_coord : Sunbury 2009 2016\n",
      "station absente de station_coord : Egham 2010 2016\n",
      "station absente de station_coord : Esher 2010 2016\n",
      "station absente de station_coord : Thamesside 2010 2010\n",
      "station absente de station_coord : Brentwood 2010 2016\n",
      "station absente de station_coord : Dartford 2010 2016\n",
      "station absente de station_coord : Bushey 2010 2010\n",
      "station absente de station_coord : Swanley 2011 2016\n",
      "station absente de station_coord : Sevenoaks 2012 2012\n",
      "station absente de station_coord : Oxted 2012 2012\n",
      "station absente de station_coord : Brigade Headquarters 2012 2014\n",
      "station absente de station_coord : Ingatestone 2012 2012\n",
      "station absente de station_coord : Painshill 2012 2012\n",
      "station absente de station_coord : Watford 2013 2016\n",
      "station absente de station_coord : Other Essex 2013 2013\n",
      "station absente de station_coord : Corringham 2014 2014\n",
      "station absente de station_coord : Leatherhead 2014 2016\n",
      "station absente de station_coord : Chertsey 2014 2016\n",
      "station absente de station_coord : Banstead 2015 2016\n",
      "station absente de station_coord : Hatfield 2015 2015\n",
      "station absente de station_coord : Gerrards Cross 2015 2016\n",
      "station absente de station_coord : Slough 2015 2016\n",
      "station absente de station_coord : Waltham Abbey 2016 2016\n",
      "station absente de station_coord : Epping 2016 2016\n",
      "station absente de station_coord : Old Harlow 2016 2016\n",
      "La base de données a été réduite de :  67.11  %\n"
     ]
    }
   ],
   "source": [
    "#print(df.DeployedFromStation_Name.unique())\n",
    "#print(station_coord.Station.unique())\n",
    "# On fait une boucle de vérification, qui affichera\n",
    "# si des stations sont dans df mais pas dans station_coord\n",
    "to_drop = []\n",
    "nb_station = len(df.DeployedFromStation_Name.unique())\n",
    "# petite variable pour contrôler le taux de réduction\n",
    "calcul = 0\n",
    "for sta in df.DeployedFromStation_Name.unique():\n",
    "    if not np.isin(sta, station_coord.Station.unique()):\n",
    "        print(\"station absente de station_coord :\", \n",
    "              sta, \n",
    "              df[df.DeployedFromStation_Name==sta].CalYear.min(),\n",
    "              df[df.DeployedFromStation_Name==sta].CalYear.max())\n",
    "        df = df[df.DeployedFromStation_Name!=sta]\n",
    "        calcul += 1\n",
    "print('La base de données a été réduite de : ', round(100-(calcul/nb_station)*100, 2), ' %')"
   ]
  },
  {
   "cell_type": "markdown",
   "metadata": {},
   "source": [
    "# Calcul des coordonnées et estimation de la distance euclidienne entre une station de départ et le lieux de l'incident\n",
    "## Etapes :\n",
    "- Calculer les coordonnées des incidents. Ces coordonnées sont rapportées en \"Ordnance Survey National Grid\" (Easting, Northing) <br/> \n",
    "car les anglais ne font rien comme tout le monde. On doit donc déduire les longitudes et latitudes correspondantes, <br/>\n",
    "puis passer le tout en coordonnées UTM (Universal Transverse Mercator)\n",
    "<br/>\n",
    "- Calculer directement les coordonnées UTM pour les stations (puisqu'on a récolté les latitudes et longitudes)"
   ]
  },
  {
   "cell_type": "code",
   "execution_count": 6,
   "metadata": {},
   "outputs": [
    {
     "name": "stderr",
     "output_type": "stream",
     "text": [
      "C:\\Users\\Roman\\anaconda3\\envs\\ptorch\\lib\\site-packages\\ipykernel_launcher.py:66: TqdmExperimentalWarning: Using `tqdm.autonotebook.tqdm` in notebook mode. Use `tqdm.tqdm` instead to force console mode (e.g. in jupyter console)\n"
     ]
    },
    {
     "data": {
      "application/vnd.jupyter.widget-view+json": {
       "model_id": "217d234e14f4483da85628d1cfde1a23",
       "version_major": 2,
       "version_minor": 0
      },
      "text/plain": [
       "  0%|          | 0/1190683 [00:00<?, ?it/s]"
      ]
     },
     "metadata": {},
     "output_type": "display_data"
    }
   ],
   "source": [
    "# On sélectionne IncidentGroup, Easting_rounded, Northing_rounded, IncidentStationGround\n",
    "# coord = df.iloc[:, [5, 21, 22, 24]] \n",
    "# Associons les types d'incident à une couleur\n",
    "def color_(x):\n",
    "    Type=['Special Service','Fire','False Alarm']  \n",
    "    color=['blue','red','cyan']\n",
    "    return color[Type.index(x)]\n",
    "df.loc[:, 'color'] = df.IncidentGroup.apply(color_) \n",
    "\n",
    "# les colonnes de coordonnées OSNG\n",
    "eastings = df.Easting_rounded\n",
    "northings = df.Northing_rounded\n",
    "\n",
    "# Conversion en longitude, latitude\n",
    "res_list_en = np.array(convert_lonlat(eastings, northings))\n",
    "df.loc[:, 'd_long'] = res_list_en[0, :]\n",
    "df.loc[:, 'd_lat'] = res_list_en[1, :]\n",
    "\n",
    "# Ajout coordonnées utm\n",
    "df = wgs84_to_web_mercator(df, 'd_long', 'd_lat')\n",
    "\n",
    "# Ajout coordonnées utm\n",
    "station_coord = wgs84_to_web_mercator(station_coord, 'long', 'lat')\n",
    "\n",
    "# La librairie Tqdm permet d'utiliser un bon paquet de fonction en affichant une \n",
    "# barre de progression, ce qui évite de laisser patiner le pc dans la semoule en\n",
    "# ne sachant pas si il a planté où si il est toujours dans le cyber-goulag des boucles\n",
    "# for.\n",
    "from tqdm import tqdm\n",
    "\n",
    "# Notre DataFrame comporte près de 1 000 000 observations,\n",
    "# Les allocations dynamiques font perdre du temps,\n",
    "# alors on crée les colonnes en amont au cas où\n",
    "df.loc[:, 'o_long'] = 0\n",
    "df.loc[:, 'o_lat'] = 0\n",
    "df.loc[:, 'o_x_utm'] = 0\n",
    "df.loc[:, 'o_y_utm'] = 0\n",
    "df.loc[:, 'dist_euclidian'] = 0\n",
    "# Distance euclidienne\n",
    "#. . . . . . . . . . O (x2, y2)\n",
    "#. . . . . . . . . / .\n",
    "#. . . . . . . . / . .\n",
    "#. . . . . . . / . . .\n",
    "#. . . . . . / . . . .\n",
    "#. . . . . / . . . . .\n",
    "#. . . . O . . . . . . \n",
    "#    (x1, y1)\n",
    "# sqrt( (x1 - x2)**2 + (y1 - y2)**2)\n",
    "def myfunc(d):\n",
    "    # on fait correspondre la station de la ligne (action d'un véhicule)\n",
    "    # et on récupère les coordonnées du point de départ correspondant\n",
    "    lon = station_coord[station_coord.Station == d.DeployedFromStation_Name].long.values[0]\n",
    "    lat = station_coord[station_coord.Station == d.DeployedFromStation_Name].lat.values[0]\n",
    "    o_x = station_coord[station_coord.Station == d.DeployedFromStation_Name].x_utm.values[0]\n",
    "    o_y = station_coord[station_coord.Station == d.DeployedFromStation_Name].y_utm.values[0]\n",
    "    d['o_long'] = lon\n",
    "    d['o_lat'] = lat\n",
    "    d['o_x_utm'] = o_x\n",
    "    d['o_y_utm'] = o_y\n",
    "    d['dist_euclidian'] = np.sqrt( (d['x_utm'] - o_x)**2 + (d['y_utm'] - o_y)**2)\n",
    "    return d\n",
    "\n",
    "# Un librairie sympa pour les tâches longues c'est Tqdm,\n",
    "# Qui permet d'afficher la progression d'une tâche\n",
    "# (pratique pour voir si le kernel est mort ou encore vivant)\n",
    "# Pour utiliser Tqdm avec pandas, on doit d'abord créer une instance\n",
    "# qui va prendre en charge le support de la méthode apply\n",
    "# on utilise alors df.progress_apply()\n",
    "from tqdm.autonotebook import tqdm\n",
    "tqdm.pandas()\n",
    "df = df.progress_apply(myfunc, axis=1)\n"
   ]
  },
  {
   "cell_type": "code",
   "execution_count": 7,
   "metadata": {},
   "outputs": [
    {
     "name": "stdout",
     "output_type": "stream",
     "text": [
      "<class 'pandas.core.frame.DataFrame'>\n",
      "Int64Index: 1190683 entries, 0 to 1258145\n",
      "Data columns (total 25 columns):\n",
      " #   Column                    Non-Null Count    Dtype  \n",
      "---  ------                    --------------    -----  \n",
      " 0   IncidentNumber            1190683 non-null  object \n",
      " 1   TimeMobilised             1190683 non-null  object \n",
      " 2   TimeMobile                1190683 non-null  object \n",
      " 3   TimeArrived               1190683 non-null  object \n",
      " 4   TimeLeft                  1148452 non-null  object \n",
      " 5   TimeReturned              974961 non-null   object \n",
      " 6   DeployedFromStation_Name  1190683 non-null  object \n",
      " 7   DateOfCall                1190683 non-null  object \n",
      " 8   CalYear                   1190683 non-null  int64  \n",
      " 9   TimeOfCall                1190683 non-null  object \n",
      " 10  HourOfCall                1190683 non-null  int64  \n",
      " 11  IncidentGroup             1190683 non-null  object \n",
      " 12  SpecialServiceType        275800 non-null   object \n",
      " 13  Easting_rounded           1190683 non-null  int64  \n",
      " 14  Northing_rounded          1190683 non-null  int64  \n",
      " 15  color                     1190683 non-null  object \n",
      " 16  d_long                    1190683 non-null  float64\n",
      " 17  d_lat                     1190683 non-null  float64\n",
      " 18  x_utm                     1190683 non-null  float64\n",
      " 19  y_utm                     1190683 non-null  float64\n",
      " 20  o_long                    1190683 non-null  float64\n",
      " 21  o_lat                     1190683 non-null  float64\n",
      " 22  o_x_utm                   1190683 non-null  float64\n",
      " 23  o_y_utm                   1190683 non-null  float64\n",
      " 24  dist_euclidian            1190683 non-null  float64\n",
      "dtypes: float64(9), int64(4), object(12)\n",
      "memory usage: 236.2+ MB\n"
     ]
    }
   ],
   "source": [
    "df.info()"
   ]
  },
  {
   "cell_type": "code",
   "execution_count": 8,
   "metadata": {},
   "outputs": [],
   "source": [
    "df.to_csv(r'data/data_with_coord.csv', index = False)"
   ]
  }
 ],
 "metadata": {
  "kernelspec": {
   "display_name": "Python 3",
   "language": "python",
   "name": "python3"
  },
  "language_info": {
   "codemirror_mode": {
    "name": "ipython",
    "version": 3
   },
   "file_extension": ".py",
   "mimetype": "text/x-python",
   "name": "python",
   "nbconvert_exporter": "python",
   "pygments_lexer": "ipython3",
   "version": "3.7.10"
  }
 },
 "nbformat": 4,
 "nbformat_minor": 4
}
