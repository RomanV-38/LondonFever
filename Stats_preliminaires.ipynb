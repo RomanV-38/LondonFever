{
 "cells": [
  {
   "cell_type": "code",
   "execution_count": 80,
   "metadata": {},
   "outputs": [],
   "source": [
    "import pandas as pd\n",
    "import pickle5 as pickle\n",
    "#df.to_pickle('data_with_coord_29_03_21')  \n",
    "with open('data_with_coord_29_03_21', \"rb\") as fh:\n",
    "    df = pickle.load(fh)\n",
    "df['ResponseTime'] = (df.TimeArrived-df.TimeOfCall).astype('timedelta64[s]')\n",
    "df['ResponseTime2'] = (df.TimeArrived-df.TimeMobilised).astype('timedelta64[s]')"
   ]
  },
  {
   "cell_type": "markdown",
   "metadata": {},
   "source": [
    "# ResponseTime : Délai entre l'appel et l'arrivée sur site\n",
    "rapport de données utiles : ~80%"
   ]
  },
  {
   "cell_type": "code",
   "execution_count": 81,
   "metadata": {},
   "outputs": [
    {
     "name": "stdout",
     "output_type": "stream",
     "text": [
      "(1797007, 22) (1435466, 22) 0.7988093535528799\n"
     ]
    }
   ],
   "source": [
    "df = df.sort_values(by='ResponseTime')\n",
    "print(df.shape, df[df.ResponseTime>0].shape, df[df.ResponseTime>0].shape[0]/df.shape[0])"
   ]
  },
  {
   "cell_type": "markdown",
   "metadata": {},
   "source": [
    "# ResponseTime2 : Délai entre la mobilisation et l'arrivée sur site\n",
    "rapport de données utiles : ~99.9%"
   ]
  },
  {
   "cell_type": "code",
   "execution_count": 82,
   "metadata": {},
   "outputs": [
    {
     "name": "stdout",
     "output_type": "stream",
     "text": [
      "0.9980228235059742\n"
     ]
    }
   ],
   "source": [
    "df = df.sort_values(by='ResponseTime2')\n",
    "print(df[df.ResponseTime2>0].shape[0]/df.shape[0])"
   ]
  },
  {
   "cell_type": "markdown",
   "metadata": {},
   "source": [
    "# Est-ce que les données manquantes ont un lien avec l'une des catégories ?"
   ]
  },
  {
   "cell_type": "code",
   "execution_count": 83,
   "metadata": {},
   "outputs": [
    {
     "name": "stderr",
     "output_type": "stream",
     "text": [
      "C:\\Users\\Roman\\anaconda3\\envs\\ptorch\\lib\\site-packages\\pandas\\core\\generic.py:5494: SettingWithCopyWarning: \n",
      "A value is trying to be set on a copy of a slice from a DataFrame.\n",
      "Try using .loc[row_indexer,col_indexer] = value instead\n",
      "\n",
      "See the caveats in the documentation: https://pandas.pydata.org/pandas-docs/stable/user_guide/indexing.html#returning-a-view-versus-a-copy\n",
      "  self[name] = value\n"
     ]
    },
    {
     "name": "stdout",
     "output_type": "stream",
     "text": [
      "[1.0, 1.0, 1.0, 1.0, 1.0]\n",
      "p>0.05 pour toutes, donc aucun lien entre la disponibilité des valeurs et les conditions\n"
     ]
    }
   ],
   "source": [
    "# let's binarize\n",
    "from scipy.stats import chi2_contingency\n",
    "df['ResponseOk'] = 1\n",
    "df[df.ResponseTime <0].ResponseOk = 0\n",
    "res = []\n",
    "for i in ['DeployedFromStation_Name', 'IncidentGroup', 'DateOfCall', 'CalYear', 'HourOfCall']:\n",
    "    res.append(chi2_contingency(pd.crosstab(df[i], df.ResponseOk))[1])\n",
    "print(res)\n",
    "print(\"p>0.05 pour toutes, donc aucun lien entre la disponibilité des valeurs et les conditions\")"
   ]
  },
  {
   "cell_type": "markdown",
   "metadata": {},
   "source": [
    "# Distribution délais (minutes)"
   ]
  },
  {
   "cell_type": "code",
   "execution_count": 84,
   "metadata": {},
   "outputs": [
    {
     "data": {
      "text/html": [
       "<div>\n",
       "<style scoped>\n",
       "    .dataframe tbody tr th:only-of-type {\n",
       "        vertical-align: middle;\n",
       "    }\n",
       "\n",
       "    .dataframe tbody tr th {\n",
       "        vertical-align: top;\n",
       "    }\n",
       "\n",
       "    .dataframe thead th {\n",
       "        text-align: right;\n",
       "    }\n",
       "</style>\n",
       "<table border=\"1\" class=\"dataframe\">\n",
       "  <thead>\n",
       "    <tr style=\"text-align: right;\">\n",
       "      <th></th>\n",
       "      <th>Delai_depuis</th>\n",
       "      <th>minimales</th>\n",
       "      <th>maximales</th>\n",
       "      <th>moyennes</th>\n",
       "      <th>std</th>\n",
       "    </tr>\n",
       "  </thead>\n",
       "  <tbody>\n",
       "    <tr>\n",
       "      <th>0</th>\n",
       "      <td>Appel</td>\n",
       "      <td>0.016667</td>\n",
       "      <td>90045.566667</td>\n",
       "      <td>28.784874</td>\n",
       "      <td>596.624552</td>\n",
       "    </tr>\n",
       "    <tr>\n",
       "      <th>1</th>\n",
       "      <td>Mobilisation</td>\n",
       "      <td>0.050000</td>\n",
       "      <td>1991.650000</td>\n",
       "      <td>6.700305</td>\n",
       "      <td>8.942544</td>\n",
       "    </tr>\n",
       "  </tbody>\n",
       "</table>\n",
       "</div>"
      ],
      "text/plain": [
       "   Delai_depuis  minimales     maximales   moyennes         std\n",
       "0         Appel   0.016667  90045.566667  28.784874  596.624552\n",
       "1  Mobilisation   0.050000   1991.650000   6.700305    8.942544"
      ]
     },
     "execution_count": 84,
     "metadata": {},
     "output_type": "execute_result"
    }
   ],
   "source": [
    "petites_stats = pd.DataFrame()\n",
    "petites_stats['Delai_depuis'] = ['Appel','Mobilisation']\n",
    "petites_stats['minimales'] = [df.ResponseTime[df.ResponseTime>0].min()/60, df.ResponseTime2[df.ResponseTime2>0].min()/60]\n",
    "petites_stats['maximales'] = [df.ResponseTime[df.ResponseTime>0].max()/60, df.ResponseTime2[df.ResponseTime2>0].max()/60]\n",
    "petites_stats['moyennes'] = [df.ResponseTime[df.ResponseTime>0].mean()/60, df.ResponseTime2[df.ResponseTime2>0].mean()/60]\n",
    "petites_stats['std'] = [df.ResponseTime[df.ResponseTime>0].std()/60, df.ResponseTime2[df.ResponseTime2>0].std()/60]\n",
    "\n",
    "petites_stats"
   ]
  },
  {
   "cell_type": "markdown",
   "metadata": {},
   "source": [
    "# Est-ce que ces variables sont corrélées ?"
   ]
  },
  {
   "cell_type": "code",
   "execution_count": 85,
   "metadata": {},
   "outputs": [
    {
     "name": "stdout",
     "output_type": "stream",
     "text": [
      "r =  0.26154940910673835  P =  0.0\n",
      "laison faible (0.2<r<0.5), mais significative (P<.05)\n"
     ]
    }
   ],
   "source": [
    "from scipy.stats import pearsonr\n",
    "d1, d2 = df.ResponseTime[df.ResponseTime>0], df.ResponseTime2[df.ResponseTime>0]\n",
    "r, p = pearsonr(d1,d2)\n",
    "print('r = ',r, ' P = ', p)\n",
    "print('laison faible (0.2<r<0.5), mais significative (P<.05)')"
   ]
  },
  {
   "cell_type": "markdown",
   "metadata": {},
   "source": []
  },
  {
   "cell_type": "code",
   "execution_count": null,
   "metadata": {},
   "outputs": [],
   "source": []
  }
 ],
 "metadata": {
  "kernelspec": {
   "display_name": "Python 3",
   "language": "python",
   "name": "python3"
  },
  "language_info": {
   "codemirror_mode": {
    "name": "ipython",
    "version": 3
   },
   "file_extension": ".py",
   "mimetype": "text/x-python",
   "name": "python",
   "nbconvert_exporter": "python",
   "pygments_lexer": "ipython3",
   "version": "3.7.10"
  }
 },
 "nbformat": 4,
 "nbformat_minor": 4
}
