{
 "cells": [
  {
   "cell_type": "code",
   "execution_count": 14,
   "metadata": {},
   "outputs": [
    {
     "data": {
      "text/html": [
       "<style>.container { width:100% !important; }</style>"
      ],
      "text/plain": [
       "<IPython.core.display.HTML object>"
      ]
     },
     "metadata": {},
     "output_type": "display_data"
    }
   ],
   "source": [
    "from IPython.core.display import display, HTML\n",
    "display(HTML(\"<style>.container { width:100% !important; }</style>\"))\n",
    "import pandas as pd\n",
    "import numpy as np\n",
    "\n",
    "\n",
    "df = pd.read_csv('data/mobilisation_2009_2012.csv',sep=';')\n",
    "df = df.iloc[:, [0, 4, 6, 8, 16]]\n",
    "df2 = pd.read_csv('data/mobilisation_2013_2016.csv',sep=';',encoding='latin-1')\n",
    "df2 = df2.iloc[:, [0, 4, 6, 8, 16]]\n",
    "\n",
    "df3 = pd.read_csv('data/mobilisation_2017_.csv',sep=';')\n",
    "df3 = df3.iloc[:, [0, 4, 5, 7, 15]]\n",
    "dico = dict(zip(df3.columns, df2.columns))\n",
    "df3 = df3.rename(dico, axis=1)\n",
    "# Je passe les IncidentNumber en object, parceque j'ai remarqué\n",
    "# qu'avec les années, les notation passent de numérique (12345)\n",
    "# à pseudo-numérique (12345-6789)\n",
    "# Pour merge, c'est mieux d'encoder dans un type qui traite les deux\n",
    "\n",
    "df = df.astype({'IncidentNumber' : 'object'})\n",
    "df2 = df2.astype({'IncidentNumber' : 'object'})\n",
    "df3 = df3.astype({'IncidentNumber' : 'object'})\n",
    "\n",
    "df = pd.concat([df, df2], ignore_index=True)\n",
    "df = pd.concat([df, df3], ignore_index=True)\n",
    "df2 = []\n",
    "df3 = []\n",
    "df.to_csv(r'data/full_mobilisation.csv', index = False)\n",
    "\n"
   ]
  },
  {
   "cell_type": "code",
   "execution_count": 15,
   "metadata": {},
   "outputs": [
    {
     "name": "stdout",
     "output_type": "stream",
     "text": [
      "<class 'pandas.core.frame.DataFrame'>\n",
      "RangeIndex: 2032481 entries, 0 to 2032480\n",
      "Data columns (total 5 columns):\n",
      " #   Column                    Dtype \n",
      "---  ------                    ----- \n",
      " 0   IncidentNumber            object\n",
      " 1   TimeMobilised             object\n",
      " 2   TimeMobile                object\n",
      " 3   TimeArrived               object\n",
      " 4   DeployedFromStation_Name  object\n",
      "dtypes: object(5)\n",
      "memory usage: 77.5+ MB\n"
     ]
    }
   ],
   "source": [
    "df.info()"
   ]
  },
  {
   "cell_type": "code",
   "execution_count": 16,
   "metadata": {},
   "outputs": [],
   "source": [
    "\n",
    "df = pd.read_csv('data/incident_2009_2012.csv',sep=';')\n",
    "df = df.loc[:, ['IncidentNumber','IncidentGroup', 'DateOfCall', 'CalYear', 'TimeOfCall', 'HourOfCall', 'Easting_rounded',\n",
    "       'Northing_rounded']]\n",
    "df2 = pd.read_csv('data/incident_2013_2016.csv',sep=';',encoding='latin-1')\n",
    "df2 = df2.loc[:, ['IncidentNumber','IncidentGroup', 'DateOfCall', 'CalYear', 'TimeOfCall', 'HourOfCall', 'Easting_rounded',\n",
    "       'Northing_rounded']]\n",
    "df3 = pd.read_csv('data/incident_2017_.csv',sep=';')\n",
    "df3 = df3.loc[:, ['IncidentNumber','IncidentGroup', 'DateOfCall', 'CalYear', 'TimeOfCall', 'HourOfCall', 'Easting_rounded',\n",
    "       'Northing_rounded']]\n",
    "# df = df.astype({'IncidentNumber' : 'object'})\n",
    "# df2 = df2.astype({'IncidentNumber' : 'object'})\n",
    "# df3 = df3.astype({'IncidentNumber' : 'object'})\n",
    "\n",
    "df = pd.concat([df, df2], ignore_index=True)\n",
    "df = pd.concat([df, df3], ignore_index=True)\n",
    "df2 = []\n",
    "df3 = []\n",
    "df.to_csv(r'data/full_incident.csv', index = False)"
   ]
  },
  {
   "cell_type": "code",
   "execution_count": 17,
   "metadata": {},
   "outputs": [
    {
     "name": "stdout",
     "output_type": "stream",
     "text": [
      "<class 'pandas.core.frame.DataFrame'>\n",
      "RangeIndex: 1309284 entries, 0 to 1309283\n",
      "Data columns (total 8 columns):\n",
      " #   Column            Non-Null Count    Dtype \n",
      "---  ------            --------------    ----- \n",
      " 0   IncidentNumber    1309284 non-null  object\n",
      " 1   IncidentGroup     1309283 non-null  object\n",
      " 2   DateOfCall        1309284 non-null  object\n",
      " 3   CalYear           1309284 non-null  int64 \n",
      " 4   TimeOfCall        1309284 non-null  object\n",
      " 5   HourOfCall        1309284 non-null  int64 \n",
      " 6   Easting_rounded   1309284 non-null  int64 \n",
      " 7   Northing_rounded  1309284 non-null  int64 \n",
      "dtypes: int64(4), object(4)\n",
      "memory usage: 79.9+ MB\n"
     ]
    }
   ],
   "source": [
    "df.info()"
   ]
  }
 ],
 "metadata": {
  "kernelspec": {
   "display_name": "Python 3",
   "language": "python",
   "name": "python3"
  },
  "language_info": {
   "codemirror_mode": {
    "name": "ipython",
    "version": 3
   },
   "file_extension": ".py",
   "mimetype": "text/x-python",
   "name": "python",
   "nbconvert_exporter": "python",
   "pygments_lexer": "ipython3",
   "version": "3.7.10"
  }
 },
 "nbformat": 4,
 "nbformat_minor": 4
}
