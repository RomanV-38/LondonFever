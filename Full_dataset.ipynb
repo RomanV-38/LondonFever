{
 "cells": [
  {
   "cell_type": "code",
   "execution_count": 1,
   "metadata": {},
   "outputs": [
    {
     "data": {
      "text/html": [
       "<style>.container { width:100% !important; }</style>"
      ],
      "text/plain": [
       "<IPython.core.display.HTML object>"
      ]
     },
     "metadata": {},
     "output_type": "display_data"
    }
   ],
   "source": [
    "# Je ne sais pas vous, mais personnellement j'ai un écran large et ça m'agace\n",
    "# d'avoir le notebook juste au milieu\n",
    "from IPython.core.display import display, HTML\n",
    "display(HTML(\"<style>.container { width:100% !important; }</style>\"))"
   ]
  },
  {
   "cell_type": "code",
   "execution_count": 2,
   "metadata": {},
   "outputs": [],
   "source": [
    "# librairies mathématiques et de gestion\n",
    "import pandas as pd\n",
    "import pickle"
   ]
  },
  {
   "cell_type": "markdown",
   "metadata": {},
   "source": [
    "# On charge les dataframes :\n",
    " - df, qui contient toutes les données incident et mobilisation\n",
    " - station_coord, qui contient les coordonnées des stations présentes dans les données"
   ]
  },
  {
   "cell_type": "code",
   "execution_count": 12,
   "metadata": {},
   "outputs": [
    {
     "name": "stderr",
     "output_type": "stream",
     "text": [
      "C:\\Users\\Roman\\anaconda3\\envs\\ptorch\\lib\\site-packages\\IPython\\core\\interactiveshell.py:3146: DtypeWarning: Columns (0,26,28,33,34) have mixed types.Specify dtype option on import or set low_memory=False.\n",
      "  interactivity=interactivity, compiler=compiler, result=result)\n"
     ]
    },
    {
     "name": "stdout",
     "output_type": "stream",
     "text": [
      "<class 'pandas.core.frame.DataFrame'>\n",
      "RangeIndex: 1309284 entries, 0 to 1309283\n",
      "Data columns (total 38 columns):\n",
      " #   Column                                  Non-Null Count    Dtype  \n",
      "---  ------                                  --------------    -----  \n",
      " 0   IncidentNumber                          1309284 non-null  object \n",
      " 1   DateOfCall                              1309284 non-null  object \n",
      " 2   CalYear                                 1309284 non-null  int64  \n",
      " 3   TimeOfCall                              1309284 non-null  object \n",
      " 4   HourOfCall                              1309284 non-null  int64  \n",
      " 5   IncidentGroup                           1309283 non-null  object \n",
      " 6   StopCodeDescription                     1309283 non-null  object \n",
      " 7   SpecialServiceType                      399872 non-null   object \n",
      " 8   PropertyCategory                        1309283 non-null  object \n",
      " 9   PropertyType                            1309283 non-null  object \n",
      " 10  AddressQualifier                        1309284 non-null  object \n",
      " 11  Postcode_full                           693166 non-null   object \n",
      " 12  Postcode_district                       1309284 non-null  object \n",
      " 13  IncGeo_BoroughCode                      1309284 non-null  object \n",
      " 14  IncGeo_BoroughName                      1309284 non-null  object \n",
      " 15  ProperCase                              1309284 non-null  object \n",
      " 16  IncGeo_WardCode                         1309284 non-null  object \n",
      " 17  IncGeo_WardName                         1309284 non-null  object \n",
      " 18  IncGeo_WardNameNew                      1309284 non-null  object \n",
      " 19  Easting_m                               693166 non-null   float64\n",
      " 20  Northing_m                              693166 non-null   float64\n",
      " 21  Easting_rounded                         1309284 non-null  int64  \n",
      " 22  Northing_rounded                        1309284 non-null  int64  \n",
      " 23  FRS                                     1309284 non-null  object \n",
      " 24  IncidentStationGround                   1309284 non-null  object \n",
      " 25  FirstPumpArriving_AttendanceTime        1075768 non-null  float64\n",
      " 26  FirstPumpArriving_DeployedFromStation   1075758 non-null  object \n",
      " 27  SecondPumpArriving_AttendanceTime       160970 non-null   float64\n",
      " 28  SecondPumpArriving_DeployedFromStation  160966 non-null   object \n",
      " 29  NumStationsWithPumpsAttending           1301779 non-null  float64\n",
      " 30  NumPumpsAttending                       1301779 non-null  float64\n",
      " 31  UPRN                                    420243 non-null   float64\n",
      " 32  USRN                                    420243 non-null   float64\n",
      " 33  Latitude                                206742 non-null   object \n",
      " 34  Longitude                               206742 non-null   object \n",
      " 35  PumpCount                               418405 non-null   float64\n",
      " 36  PumpHoursRoundUp                        418280 non-null   float64\n",
      " 37  Notional Cost (Â£)                      418280 non-null   float64\n",
      "dtypes: float64(11), int64(4), object(23)\n",
      "memory usage: 379.6+ MB\n"
     ]
    }
   ],
   "source": [
    "# j'ai passé les data en csv, avec un nom un peu moins pénible\n",
    "# la lecture doit se faire avec latin-1 pour certain caractère spéciaux\n",
    "df2 = pd.read_csv('data/full_incident.csv',sep=',', encoding='latin-1')\n",
    "df2.info()"
   ]
  },
  {
   "cell_type": "markdown",
   "metadata": {},
   "source": [
    "# Il y a trop de colonnes pour pouvoir faire tourner des algorithmes normalement. On ne va garder que celles relatives à l'incident (ID, type), les dates/heures, temps de parcourt, et coordonnées de l'incident"
   ]
  },
  {
   "cell_type": "code",
   "execution_count": 15,
   "metadata": {},
   "outputs": [
    {
     "data": {
      "text/html": [
       "<div>\n",
       "<style scoped>\n",
       "    .dataframe tbody tr th:only-of-type {\n",
       "        vertical-align: middle;\n",
       "    }\n",
       "\n",
       "    .dataframe tbody tr th {\n",
       "        vertical-align: top;\n",
       "    }\n",
       "\n",
       "    .dataframe thead th {\n",
       "        text-align: right;\n",
       "    }\n",
       "</style>\n",
       "<table border=\"1\" class=\"dataframe\">\n",
       "  <thead>\n",
       "    <tr style=\"text-align: right;\">\n",
       "      <th></th>\n",
       "      <th>IncidentNumber</th>\n",
       "      <th>DateOfCall</th>\n",
       "      <th>CalYear</th>\n",
       "      <th>TimeOfCall</th>\n",
       "      <th>HourOfCall</th>\n",
       "      <th>IncidentGroup</th>\n",
       "      <th>SpecialServiceType</th>\n",
       "      <th>Easting_rounded</th>\n",
       "      <th>Northing_rounded</th>\n",
       "    </tr>\n",
       "  </thead>\n",
       "  <tbody>\n",
       "    <tr>\n",
       "      <th>0</th>\n",
       "      <td>235138081</td>\n",
       "      <td>01-janv-09</td>\n",
       "      <td>2009</td>\n",
       "      <td>00:00:37</td>\n",
       "      <td>0</td>\n",
       "      <td>Special Service</td>\n",
       "      <td>RTC</td>\n",
       "      <td>528650</td>\n",
       "      <td>176850</td>\n",
       "    </tr>\n",
       "    <tr>\n",
       "      <th>1</th>\n",
       "      <td>1091</td>\n",
       "      <td>01-janv-09</td>\n",
       "      <td>2009</td>\n",
       "      <td>00:00:46</td>\n",
       "      <td>0</td>\n",
       "      <td>Special Service</td>\n",
       "      <td>Assist other agencies</td>\n",
       "      <td>530450</td>\n",
       "      <td>179050</td>\n",
       "    </tr>\n",
       "    <tr>\n",
       "      <th>2</th>\n",
       "      <td>2091</td>\n",
       "      <td>01-janv-09</td>\n",
       "      <td>2009</td>\n",
       "      <td>00:03:00</td>\n",
       "      <td>0</td>\n",
       "      <td>Fire</td>\n",
       "      <td>NaN</td>\n",
       "      <td>533750</td>\n",
       "      <td>194450</td>\n",
       "    </tr>\n",
       "    <tr>\n",
       "      <th>3</th>\n",
       "      <td>3091</td>\n",
       "      <td>01-janv-09</td>\n",
       "      <td>2009</td>\n",
       "      <td>00:04:27</td>\n",
       "      <td>0</td>\n",
       "      <td>Fire</td>\n",
       "      <td>NaN</td>\n",
       "      <td>507750</td>\n",
       "      <td>182850</td>\n",
       "    </tr>\n",
       "    <tr>\n",
       "      <th>4</th>\n",
       "      <td>5091</td>\n",
       "      <td>01-janv-09</td>\n",
       "      <td>2009</td>\n",
       "      <td>00:05:39</td>\n",
       "      <td>0</td>\n",
       "      <td>Fire</td>\n",
       "      <td>NaN</td>\n",
       "      <td>531050</td>\n",
       "      <td>185350</td>\n",
       "    </tr>\n",
       "  </tbody>\n",
       "</table>\n",
       "</div>"
      ],
      "text/plain": [
       "  IncidentNumber  DateOfCall  CalYear TimeOfCall  HourOfCall    IncidentGroup  \\\n",
       "0      235138081  01-janv-09     2009   00:00:37           0  Special Service   \n",
       "1           1091  01-janv-09     2009   00:00:46           0  Special Service   \n",
       "2           2091  01-janv-09     2009   00:03:00           0             Fire   \n",
       "3           3091  01-janv-09     2009   00:04:27           0             Fire   \n",
       "4           5091  01-janv-09     2009   00:05:39           0             Fire   \n",
       "\n",
       "      SpecialServiceType  Easting_rounded  Northing_rounded  \n",
       "0                    RTC           528650            176850  \n",
       "1  Assist other agencies           530450            179050  \n",
       "2                    NaN           533750            194450  \n",
       "3                    NaN           507750            182850  \n",
       "4                    NaN           531050            185350  "
      ]
     },
     "execution_count": 15,
     "metadata": {},
     "output_type": "execute_result"
    }
   ],
   "source": [
    "to_keep = [0, 1, 2, 3, 4, 5, 7, 21, 22]\n",
    "df2 = df2.iloc[:, to_keep]\n",
    "df2.head()"
   ]
  },
  {
   "cell_type": "code",
   "execution_count": 19,
   "metadata": {},
   "outputs": [
    {
     "name": "stderr",
     "output_type": "stream",
     "text": [
      "C:\\Users\\Roman\\anaconda3\\envs\\ptorch\\lib\\site-packages\\IPython\\core\\interactiveshell.py:3146: DtypeWarning: Columns (0,4,6,8,11,13,19,24,25,27,29,31,34) have mixed types.Specify dtype option on import or set low_memory=False.\n",
      "  interactivity=interactivity, compiler=compiler, result=result)\n"
     ]
    },
    {
     "name": "stdout",
     "output_type": "stream",
     "text": [
      "<class 'pandas.core.frame.DataFrame'>\n",
      "RangeIndex: 2032481 entries, 0 to 2032480\n",
      "Data columns (total 36 columns):\n",
      " #   Column                    Dtype  \n",
      "---  ------                    -----  \n",
      " 0   IncidentNumber            object \n",
      " 1   ResourceMobilisationID    float64\n",
      " 2   Resource_Code             object \n",
      " 3   PerformanceReporting      object \n",
      " 4   TimeMobilised             object \n",
      " 5   TimeMobilisedTimeZoneID   float64\n",
      " 6   TimeMobile                object \n",
      " 7   TimeMobileTimeZoneID      float64\n",
      " 8   TimeArrived               object \n",
      " 9   TimeArrivedTimeZoneID     float64\n",
      " 10  AttendanceTimeSeconds     float64\n",
      " 11  TimeLeft                  object \n",
      " 12  TimeLeftTimeZoneID        float64\n",
      " 13  TimeReturned              object \n",
      " 14  TimeReturnedTimeZoneID    float64\n",
      " 15  DeployedFromStation_Code  object \n",
      " 16  DeployedFromStation_Name  object \n",
      " 17  DeployedFromLocation      object \n",
      " 18  MobilisationOrder         float64\n",
      " 19  PlusCode_code             object \n",
      " 20  PlusCode_Description      object \n",
      " 21  DelayCodeID               float64\n",
      " 22  DelayCode_Description     object \n",
      " 23  ResourceMobilisationId    float64\n",
      " 24  DateAndTimeMobilised      object \n",
      " 25  DateAndTimeMobile         object \n",
      " 26  TimeMobileTimezoneId      float64\n",
      " 27  DateAndTimeArrived        object \n",
      " 28  TimeArrivedTimezoneId     float64\n",
      " 29  DateAndTimeLeft           object \n",
      " 30  TimeLeftTimezoneId        float64\n",
      " 31  DateAndTimeReturned       object \n",
      " 32  TimeReturnedTimezoneId    float64\n",
      " 33  PumpOrder                 float64\n",
      " 34  PlusCode_Code             object \n",
      " 35  DelayCodeId               float64\n",
      "dtypes: float64(16), object(20)\n",
      "memory usage: 558.2+ MB\n"
     ]
    }
   ],
   "source": [
    "df = pd.read_csv('data/full_mobilisation.csv',sep=',', encoding='latin-1')\n",
    "df.info()"
   ]
  },
  {
   "cell_type": "markdown",
   "metadata": {},
   "source": [
    "# Même chose, on ne va garder que celles relatives à l'incident (ID, type), les dates/heures, temps de parcourt, et coordonnées de l'incident"
   ]
  },
  {
   "cell_type": "code",
   "execution_count": 20,
   "metadata": {},
   "outputs": [
    {
     "name": "stdout",
     "output_type": "stream",
     "text": [
      "<class 'pandas.core.frame.DataFrame'>\n",
      "RangeIndex: 2032481 entries, 0 to 2032480\n",
      "Data columns (total 7 columns):\n",
      " #   Column                    Dtype \n",
      "---  ------                    ----- \n",
      " 0   IncidentNumber            object\n",
      " 1   TimeMobilised             object\n",
      " 2   TimeMobile                object\n",
      " 3   TimeArrived               object\n",
      " 4   TimeLeft                  object\n",
      " 5   TimeReturned              object\n",
      " 6   DeployedFromStation_Name  object\n",
      "dtypes: object(7)\n",
      "memory usage: 108.5+ MB\n"
     ]
    }
   ],
   "source": [
    "to_keep = [0, 4, 6, 8, 11, 13, 16]\n",
    "df = df.iloc[:, to_keep]\n",
    "df.info()"
   ]
  },
  {
   "cell_type": "markdown",
   "metadata": {},
   "source": [
    "# On peut maintenant réunir les données sur la base de l'identifiant de l'incident"
   ]
  },
  {
   "cell_type": "code",
   "execution_count": 22,
   "metadata": {},
   "outputs": [],
   "source": [
    "df = df.merge(df2, on='IncidentNumber')\n",
    "df.info()"
   ]
  },
  {
   "cell_type": "markdown",
   "metadata": {},
   "source": [
    "# Au final, on nettoies les valeurs manquantes dans les colonnes essentielles à la problématique (id, heure de l'appel, heure d'arrivée, coordonnées)"
   ]
  },
  {
   "cell_type": "code",
   "execution_count": 27,
   "metadata": {},
   "outputs": [
    {
     "name": "stdout",
     "output_type": "stream",
     "text": [
      "<class 'pandas.core.frame.DataFrame'>\n",
      "Int64Index: 1258146 entries, 1 to 1383935\n",
      "Data columns (total 15 columns):\n",
      " #   Column                    Non-Null Count    Dtype \n",
      "---  ------                    --------------    ----- \n",
      " 0   IncidentNumber            1258146 non-null  object\n",
      " 1   TimeMobilised             1258146 non-null  object\n",
      " 2   TimeMobile                1258146 non-null  object\n",
      " 3   TimeArrived               1258146 non-null  object\n",
      " 4   TimeLeft                  1212722 non-null  object\n",
      " 5   TimeReturned              1041477 non-null  object\n",
      " 6   DeployedFromStation_Name  1258146 non-null  object\n",
      " 7   DateOfCall                1258146 non-null  object\n",
      " 8   CalYear                   1258146 non-null  int64 \n",
      " 9   TimeOfCall                1258146 non-null  object\n",
      " 10  HourOfCall                1258146 non-null  int64 \n",
      " 11  IncidentGroup             1258146 non-null  object\n",
      " 12  SpecialServiceType        291762 non-null   object\n",
      " 13  Easting_rounded           1258146 non-null  int64 \n",
      " 14  Northing_rounded          1258146 non-null  int64 \n",
      "dtypes: int64(4), object(11)\n",
      "memory usage: 153.6+ MB\n"
     ]
    }
   ],
   "source": [
    "df = df.dropna(subset=df.columns[[1, 2, 3, 6, 7, 8, 9, 10, 13, 14]])\n",
    "df.info()"
   ]
  },
  {
   "cell_type": "markdown",
   "metadata": {},
   "source": [
    "# On peut enfin sauvegarder le dataset en csv"
   ]
  },
  {
   "cell_type": "code",
   "execution_count": 28,
   "metadata": {},
   "outputs": [],
   "source": [
    "df.to_csv(r'data/Full_dataset.csv', index = False)"
   ]
  }
 ],
 "metadata": {
  "kernelspec": {
   "display_name": "Python 3",
   "language": "python",
   "name": "python3"
  },
  "language_info": {
   "codemirror_mode": {
    "name": "ipython",
    "version": 3
   },
   "file_extension": ".py",
   "mimetype": "text/x-python",
   "name": "python",
   "nbconvert_exporter": "python",
   "pygments_lexer": "ipython3",
   "version": "3.7.10"
  }
 },
 "nbformat": 4,
 "nbformat_minor": 4
}
