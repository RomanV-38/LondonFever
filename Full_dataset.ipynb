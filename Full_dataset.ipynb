{
 "cells": [
  {
   "cell_type": "code",
   "execution_count": 1,
   "metadata": {},
   "outputs": [
    {
     "data": {
      "text/html": [
       "<style>.container { width:100% !important; }</style>"
      ],
      "text/plain": [
       "<IPython.core.display.HTML object>"
      ]
     },
     "metadata": {},
     "output_type": "display_data"
    }
   ],
   "source": [
    "# Je ne sais pas vous, mais personnellement j'ai un écran large et ça m'agace\n",
    "# d'avoir le notebook juste au milieu\n",
    "from IPython.core.display import display, HTML\n",
    "display(HTML(\"<style>.container { width:100% !important; }</style>\"))"
   ]
  },
  {
   "cell_type": "code",
   "execution_count": 2,
   "metadata": {},
   "outputs": [],
   "source": [
    "# librairies mathématiques et de gestion\n",
    "import pandas as pd\n",
    "import pickle"
   ]
  },
  {
   "cell_type": "markdown",
   "metadata": {},
   "source": [
    "# On charge les dataframes :\n",
    " - df, qui contient toutes les données incident et mobilisation\n",
    " - station_coord, qui contient les coordonnées des stations présentes dans les données"
   ]
  },
  {
   "cell_type": "code",
   "execution_count": 3,
   "metadata": {},
   "outputs": [
    {
     "name": "stderr",
     "output_type": "stream",
     "text": [
      "C:\\Users\\Roman\\anaconda3\\envs\\ptorch\\lib\\site-packages\\IPython\\core\\interactiveshell.py:3146: DtypeWarning: Columns (0) have mixed types.Specify dtype option on import or set low_memory=False.\n",
      "  interactivity=interactivity, compiler=compiler, result=result)\n"
     ]
    },
    {
     "name": "stdout",
     "output_type": "stream",
     "text": [
      "<class 'pandas.core.frame.DataFrame'>\n",
      "RangeIndex: 1309284 entries, 0 to 1309283\n",
      "Data columns (total 8 columns):\n",
      " #   Column            Non-Null Count    Dtype \n",
      "---  ------            --------------    ----- \n",
      " 0   IncidentNumber    1309284 non-null  object\n",
      " 1   IncidentGroup     1309283 non-null  object\n",
      " 2   DateOfCall        1309284 non-null  object\n",
      " 3   CalYear           1309284 non-null  int64 \n",
      " 4   TimeOfCall        1309284 non-null  object\n",
      " 5   HourOfCall        1309284 non-null  int64 \n",
      " 6   Easting_rounded   1309284 non-null  int64 \n",
      " 7   Northing_rounded  1309284 non-null  int64 \n",
      "dtypes: int64(4), object(4)\n",
      "memory usage: 79.9+ MB\n"
     ]
    }
   ],
   "source": [
    "# j'ai passé les data en csv, avec un nom un peu moins pénible\n",
    "# la lecture doit se faire avec latin-1 pour certain caractère spéciaux\n",
    "df2 = pd.read_csv('data/full_incident.csv',sep=',', encoding='latin-1')\n",
    "df2.info()"
   ]
  },
  {
   "cell_type": "code",
   "execution_count": 4,
   "metadata": {},
   "outputs": [
    {
     "name": "stdout",
     "output_type": "stream",
     "text": [
      "<class 'pandas.core.frame.DataFrame'>\n",
      "RangeIndex: 2032481 entries, 0 to 2032480\n",
      "Data columns (total 5 columns):\n",
      " #   Column                    Dtype \n",
      "---  ------                    ----- \n",
      " 0   IncidentNumber            object\n",
      " 1   TimeMobilised             object\n",
      " 2   TimeMobile                object\n",
      " 3   TimeArrived               object\n",
      " 4   DeployedFromStation_Name  object\n",
      "dtypes: object(5)\n",
      "memory usage: 77.5+ MB\n"
     ]
    }
   ],
   "source": [
    "df = pd.read_csv('data/full_mobilisation.csv',sep=',', encoding='latin-1')\n",
    "df.info()"
   ]
  },
  {
   "cell_type": "markdown",
   "metadata": {},
   "source": [
    "# On peut maintenant réunir les données sur la base de l'identifiant de l'incident"
   ]
  },
  {
   "cell_type": "code",
   "execution_count": 5,
   "metadata": {},
   "outputs": [
    {
     "name": "stdout",
     "output_type": "stream",
     "text": [
      "<class 'pandas.core.frame.DataFrame'>\n",
      "Int64Index: 1994634 entries, 0 to 1994633\n",
      "Data columns (total 12 columns):\n",
      " #   Column                    Dtype \n",
      "---  ------                    ----- \n",
      " 0   IncidentNumber            object\n",
      " 1   TimeMobilised             object\n",
      " 2   TimeMobile                object\n",
      " 3   TimeArrived               object\n",
      " 4   DeployedFromStation_Name  object\n",
      " 5   IncidentGroup             object\n",
      " 6   DateOfCall                object\n",
      " 7   CalYear                   int64 \n",
      " 8   TimeOfCall                object\n",
      " 9   HourOfCall                int64 \n",
      " 10  Easting_rounded           int64 \n",
      " 11  Northing_rounded          int64 \n",
      "dtypes: int64(4), object(8)\n",
      "memory usage: 197.8+ MB\n"
     ]
    }
   ],
   "source": [
    "df = df.merge(df2, on='IncidentNumber')\n",
    "df.info()"
   ]
  },
  {
   "cell_type": "markdown",
   "metadata": {},
   "source": [
    "# Au final, on nettoies les valeurs manquantes dans les colonnes essentielles à la problématique (id, heure de l'appel, heure d'arrivée, coordonnées)"
   ]
  },
  {
   "cell_type": "code",
   "execution_count": 6,
   "metadata": {},
   "outputs": [
    {
     "name": "stdout",
     "output_type": "stream",
     "text": [
      "IncidentNumber                  0\n",
      "TimeMobilised                   0\n",
      "TimeMobile                  45478\n",
      "TimeArrived                 98204\n",
      "DeployedFromStation_Name      665\n",
      "IncidentGroup                   1\n",
      "DateOfCall                      0\n",
      "CalYear                         0\n",
      "TimeOfCall                      0\n",
      "HourOfCall                      0\n",
      "Easting_rounded                 0\n",
      "Northing_rounded                0\n",
      "dtype: int64\n"
     ]
    }
   ],
   "source": [
    "nb_null = df.isnull().sum()\n",
    "print(nb_null)"
   ]
  },
  {
   "cell_type": "code",
   "execution_count": 7,
   "metadata": {},
   "outputs": [
    {
     "name": "stdout",
     "output_type": "stream",
     "text": [
      "<class 'pandas.core.frame.DataFrame'>\n",
      "Int64Index: 1864458 entries, 1 to 1994633\n",
      "Data columns (total 12 columns):\n",
      " #   Column                    Dtype \n",
      "---  ------                    ----- \n",
      " 0   IncidentNumber            object\n",
      " 1   TimeMobilised             object\n",
      " 2   TimeMobile                object\n",
      " 3   TimeArrived               object\n",
      " 4   DeployedFromStation_Name  object\n",
      " 5   IncidentGroup             object\n",
      " 6   DateOfCall                object\n",
      " 7   CalYear                   int64 \n",
      " 8   TimeOfCall                object\n",
      " 9   HourOfCall                int64 \n",
      " 10  Easting_rounded           int64 \n",
      " 11  Northing_rounded          int64 \n",
      "dtypes: int64(4), object(8)\n",
      "memory usage: 184.9+ MB\n"
     ]
    }
   ],
   "source": [
    "df = df.dropna(subset=df.columns[[2, 3, 4]])\n",
    "df.info()"
   ]
  },
  {
   "cell_type": "markdown",
   "metadata": {},
   "source": [
    "# On peut enfin sauvegarder le dataset en csv"
   ]
  },
  {
   "cell_type": "code",
   "execution_count": 8,
   "metadata": {},
   "outputs": [],
   "source": [
    "df.to_csv(r'data/Full_dataset.csv', index = False)"
   ]
  }
 ],
 "metadata": {
  "kernelspec": {
   "display_name": "Python 3",
   "language": "python",
   "name": "python3"
  },
  "language_info": {
   "codemirror_mode": {
    "name": "ipython",
    "version": 3
   },
   "file_extension": ".py",
   "mimetype": "text/x-python",
   "name": "python",
   "nbconvert_exporter": "python",
   "pygments_lexer": "ipython3",
   "version": "3.7.10"
  }
 },
 "nbformat": 4,
 "nbformat_minor": 4
}
