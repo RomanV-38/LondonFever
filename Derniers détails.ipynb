{
 "cells": [
  {
   "cell_type": "code",
   "execution_count": 13,
   "metadata": {},
   "outputs": [],
   "source": [
    "import pandas as pd\n",
    "\n",
    "pd.set_option('display.max_columns', 24)"
   ]
  },
  {
   "cell_type": "code",
   "execution_count": 8,
   "metadata": {},
   "outputs": [],
   "source": [
    "df = pd.read_csv(r\"C:\\Users\\Gothmog\\Downloads\\data_with_coord_nettoye.csv\")\n"
   ]
  },
  {
   "cell_type": "markdown",
   "metadata": {},
   "source": [
    "On affiche les informations du df"
   ]
  },
  {
   "cell_type": "code",
   "execution_count": 4,
   "metadata": {
    "scrolled": true
   },
   "outputs": [
    {
     "name": "stdout",
     "output_type": "stream",
     "text": [
      "<class 'pandas.core.frame.DataFrame'>\n",
      "RangeIndex: 1148452 entries, 0 to 1148451\n",
      "Data columns (total 25 columns):\n",
      " #   Column                    Non-Null Count    Dtype  \n",
      "---  ------                    --------------    -----  \n",
      " 0   Unnamed: 0                1148452 non-null  int64  \n",
      " 1   IncidentNumber            1148452 non-null  object \n",
      " 2   TimeOfCall                1148452 non-null  object \n",
      " 3   TimeMobilised             1148452 non-null  object \n",
      " 4   TimeMobile                1148452 non-null  object \n",
      " 5   ReactionTime              1148452 non-null  int64  \n",
      " 6   TimeArrived               1148452 non-null  object \n",
      " 7   ResponseTime              1148452 non-null  int64  \n",
      " 8   TimeLeft                  1148452 non-null  object \n",
      " 9   InterventionDuration      1148452 non-null  float64\n",
      " 10  DeployedFromStation_Name  1148452 non-null  object \n",
      " 11  IncidentGroup             1148452 non-null  object \n",
      " 12  SpecialServiceType        1148452 non-null  object \n",
      " 13  Easting_rounded           1148452 non-null  int64  \n",
      " 14  Northing_rounded          1148452 non-null  int64  \n",
      " 15  color                     1148452 non-null  object \n",
      " 16  d_long                    1148452 non-null  float64\n",
      " 17  d_lat                     1148452 non-null  float64\n",
      " 18  x_utm                     1148452 non-null  float64\n",
      " 19  y_utm                     1148452 non-null  float64\n",
      " 20  o_long                    1148452 non-null  float64\n",
      " 21  o_lat                     1148452 non-null  float64\n",
      " 22  o_x_utm                   1148452 non-null  float64\n",
      " 23  o_y_utm                   1148452 non-null  float64\n",
      " 24  dist_euclidian            1148452 non-null  float64\n",
      "dtypes: float64(10), int64(5), object(10)\n",
      "memory usage: 219.0+ MB\n"
     ]
    }
   ],
   "source": [
    "df.info()"
   ]
  },
  {
   "cell_type": "markdown",
   "metadata": {},
   "source": [
    "Roman ayant fait un important travail de conversion sur les données de géolocalisation, les colonnes Easting_Rounded et Northing_Rounded deviennent redondante et peuvent être abandonnées pour alléger le df un peu plus. "
   ]
  },
  {
   "cell_type": "code",
   "execution_count": 9,
   "metadata": {},
   "outputs": [],
   "source": [
    "df.drop(['Easting_rounded','Northing_rounded'], axis = 1, inplace = True)"
   ]
  },
  {
   "cell_type": "markdown",
   "metadata": {},
   "source": [
    "Dernières vérifications"
   ]
  },
  {
   "cell_type": "code",
   "execution_count": 11,
   "metadata": {},
   "outputs": [
    {
     "name": "stdout",
     "output_type": "stream",
     "text": [
      "<class 'pandas.core.frame.DataFrame'>\n",
      "RangeIndex: 1148452 entries, 0 to 1148451\n",
      "Data columns (total 23 columns):\n",
      " #   Column                    Non-Null Count    Dtype  \n",
      "---  ------                    --------------    -----  \n",
      " 0   Unnamed: 0                1148452 non-null  int64  \n",
      " 1   IncidentNumber            1148452 non-null  object \n",
      " 2   TimeOfCall                1148452 non-null  object \n",
      " 3   TimeMobilised             1148452 non-null  object \n",
      " 4   TimeMobile                1148452 non-null  object \n",
      " 5   ReactionTime              1148452 non-null  int64  \n",
      " 6   TimeArrived               1148452 non-null  object \n",
      " 7   ResponseTime              1148452 non-null  int64  \n",
      " 8   TimeLeft                  1148452 non-null  object \n",
      " 9   InterventionDuration      1148452 non-null  float64\n",
      " 10  DeployedFromStation_Name  1148452 non-null  object \n",
      " 11  IncidentGroup             1148452 non-null  object \n",
      " 12  SpecialServiceType        1148452 non-null  object \n",
      " 13  color                     1148452 non-null  object \n",
      " 14  d_long                    1148452 non-null  float64\n",
      " 15  d_lat                     1148452 non-null  float64\n",
      " 16  x_utm                     1148452 non-null  float64\n",
      " 17  y_utm                     1148452 non-null  float64\n",
      " 18  o_long                    1148452 non-null  float64\n",
      " 19  o_lat                     1148452 non-null  float64\n",
      " 20  o_x_utm                   1148452 non-null  float64\n",
      " 21  o_y_utm                   1148452 non-null  float64\n",
      " 22  dist_euclidian            1148452 non-null  float64\n",
      "dtypes: float64(10), int64(3), object(10)\n",
      "memory usage: 201.5+ MB\n"
     ]
    }
   ],
   "source": [
    "df.info()"
   ]
  },
  {
   "cell_type": "markdown",
   "metadata": {},
   "source": [
    "Exportations du df pour le partager"
   ]
  },
  {
   "cell_type": "code",
   "execution_count": 12,
   "metadata": {},
   "outputs": [],
   "source": [
    "df.to_csv(r'C:\\Users\\Gothmog\\Desktop\\data_with_coord_nettoye_bis.csv')"
   ]
  }
 ],
 "metadata": {
  "kernelspec": {
   "display_name": "Python 3",
   "language": "python",
   "name": "python3"
  },
  "language_info": {
   "codemirror_mode": {
    "name": "ipython",
    "version": 3
   },
   "file_extension": ".py",
   "mimetype": "text/x-python",
   "name": "python",
   "nbconvert_exporter": "python",
   "pygments_lexer": "ipython3",
   "version": "3.7.10"
  }
 },
 "nbformat": 4,
 "nbformat_minor": 4
}
